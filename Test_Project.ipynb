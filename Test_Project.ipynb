{
  "nbformat": 4,
  "nbformat_minor": 0,
  "metadata": {
    "colab": {
      "provenance": [],
      "authorship_tag": "ABX9TyOaFgWeD4X92qI4UQZ/i3jh",
      "include_colab_link": true
    },
    "kernelspec": {
      "name": "python3",
      "display_name": "Python 3"
    },
    "language_info": {
      "name": "python"
    }
  },
  "cells": [
    {
      "cell_type": "markdown",
      "metadata": {
        "id": "view-in-github",
        "colab_type": "text"
      },
      "source": [
        "<a href=\"https://colab.research.google.com/github/Akash-Adhya/learning-llms/blob/main/Test_Project.ipynb\" target=\"_parent\"><img src=\"https://colab.research.google.com/assets/colab-badge.svg\" alt=\"Open In Colab\"/></a>"
      ]
    },
    {
      "cell_type": "code",
      "execution_count": 1,
      "metadata": {
        "colab": {
          "base_uri": "https://localhost:8080/"
        },
        "id": "5IKK0iiIUL1o",
        "outputId": "d9d1ff56-fdb3-4233-bc0d-d593a4885378",
        "collapsed": true
      },
      "outputs": [
        {
          "output_type": "stream",
          "name": "stdout",
          "text": [
            "Requirement already satisfied: langchain_community in /usr/local/lib/python3.11/dist-packages (0.3.21)\n",
            "Requirement already satisfied: langchainhub in /usr/local/lib/python3.11/dist-packages (0.1.21)\n",
            "Requirement already satisfied: chromadb in /usr/local/lib/python3.11/dist-packages (1.0.4)\n",
            "Requirement already satisfied: langchain in /usr/local/lib/python3.11/dist-packages (0.3.23)\n",
            "Requirement already satisfied: sentence_transformers in /usr/local/lib/python3.11/dist-packages (3.4.1)\n",
            "Requirement already satisfied: langchain-core<1.0.0,>=0.3.51 in /usr/local/lib/python3.11/dist-packages (from langchain_community) (0.3.51)\n",
            "Requirement already satisfied: SQLAlchemy<3,>=1.4 in /usr/local/lib/python3.11/dist-packages (from langchain_community) (2.0.40)\n",
            "Requirement already satisfied: requests<3,>=2 in /usr/local/lib/python3.11/dist-packages (from langchain_community) (2.32.3)\n",
            "Requirement already satisfied: PyYAML>=5.3 in /usr/local/lib/python3.11/dist-packages (from langchain_community) (6.0.2)\n",
            "Requirement already satisfied: aiohttp<4.0.0,>=3.8.3 in /usr/local/lib/python3.11/dist-packages (from langchain_community) (3.11.15)\n",
            "Requirement already satisfied: tenacity!=8.4.0,<10,>=8.1.0 in /usr/local/lib/python3.11/dist-packages (from langchain_community) (9.1.2)\n",
            "Requirement already satisfied: dataclasses-json<0.7,>=0.5.7 in /usr/local/lib/python3.11/dist-packages (from langchain_community) (0.6.7)\n",
            "Requirement already satisfied: pydantic-settings<3.0.0,>=2.4.0 in /usr/local/lib/python3.11/dist-packages (from langchain_community) (2.8.1)\n",
            "Requirement already satisfied: langsmith<0.4,>=0.1.125 in /usr/local/lib/python3.11/dist-packages (from langchain_community) (0.3.24)\n",
            "Requirement already satisfied: httpx-sse<1.0.0,>=0.4.0 in /usr/local/lib/python3.11/dist-packages (from langchain_community) (0.4.0)\n",
            "Requirement already satisfied: numpy<3,>=1.26.2 in /usr/local/lib/python3.11/dist-packages (from langchain_community) (2.0.2)\n",
            "Requirement already satisfied: packaging<25,>=23.2 in /usr/local/lib/python3.11/dist-packages (from langchainhub) (24.2)\n",
            "Requirement already satisfied: types-requests<3.0.0.0,>=2.31.0.2 in /usr/local/lib/python3.11/dist-packages (from langchainhub) (2.32.0.20250328)\n",
            "Requirement already satisfied: build>=1.0.3 in /usr/local/lib/python3.11/dist-packages (from chromadb) (1.2.2.post1)\n",
            "Requirement already satisfied: pydantic>=1.9 in /usr/local/lib/python3.11/dist-packages (from chromadb) (2.11.2)\n",
            "Requirement already satisfied: chroma-hnswlib==0.7.6 in /usr/local/lib/python3.11/dist-packages (from chromadb) (0.7.6)\n",
            "Requirement already satisfied: fastapi==0.115.9 in /usr/local/lib/python3.11/dist-packages (from chromadb) (0.115.9)\n",
            "Requirement already satisfied: uvicorn>=0.18.3 in /usr/local/lib/python3.11/dist-packages (from uvicorn[standard]>=0.18.3->chromadb) (0.34.0)\n",
            "Requirement already satisfied: posthog>=2.4.0 in /usr/local/lib/python3.11/dist-packages (from chromadb) (3.24.1)\n",
            "Requirement already satisfied: typing-extensions>=4.5.0 in /usr/local/lib/python3.11/dist-packages (from chromadb) (4.13.1)\n",
            "Requirement already satisfied: onnxruntime>=1.14.1 in /usr/local/lib/python3.11/dist-packages (from chromadb) (1.21.0)\n",
            "Requirement already satisfied: opentelemetry-api>=1.2.0 in /usr/local/lib/python3.11/dist-packages (from chromadb) (1.32.0)\n",
            "Requirement already satisfied: opentelemetry-exporter-otlp-proto-grpc>=1.2.0 in /usr/local/lib/python3.11/dist-packages (from chromadb) (1.32.0)\n",
            "Requirement already satisfied: opentelemetry-instrumentation-fastapi>=0.41b0 in /usr/local/lib/python3.11/dist-packages (from chromadb) (0.53b0)\n",
            "Requirement already satisfied: opentelemetry-sdk>=1.2.0 in /usr/local/lib/python3.11/dist-packages (from chromadb) (1.32.0)\n",
            "Requirement already satisfied: tokenizers>=0.13.2 in /usr/local/lib/python3.11/dist-packages (from chromadb) (0.21.1)\n",
            "Requirement already satisfied: pypika>=0.48.9 in /usr/local/lib/python3.11/dist-packages (from chromadb) (0.48.9)\n",
            "Requirement already satisfied: tqdm>=4.65.0 in /usr/local/lib/python3.11/dist-packages (from chromadb) (4.67.1)\n",
            "Requirement already satisfied: overrides>=7.3.1 in /usr/local/lib/python3.11/dist-packages (from chromadb) (7.7.0)\n",
            "Requirement already satisfied: importlib-resources in /usr/local/lib/python3.11/dist-packages (from chromadb) (6.5.2)\n",
            "Requirement already satisfied: grpcio>=1.58.0 in /usr/local/lib/python3.11/dist-packages (from chromadb) (1.71.0)\n",
            "Requirement already satisfied: bcrypt>=4.0.1 in /usr/local/lib/python3.11/dist-packages (from chromadb) (4.3.0)\n",
            "Requirement already satisfied: typer>=0.9.0 in /usr/local/lib/python3.11/dist-packages (from chromadb) (0.15.2)\n",
            "Requirement already satisfied: kubernetes>=28.1.0 in /usr/local/lib/python3.11/dist-packages (from chromadb) (32.0.1)\n",
            "Requirement already satisfied: mmh3>=4.0.1 in /usr/local/lib/python3.11/dist-packages (from chromadb) (5.1.0)\n",
            "Requirement already satisfied: orjson>=3.9.12 in /usr/local/lib/python3.11/dist-packages (from chromadb) (3.10.16)\n",
            "Requirement already satisfied: httpx>=0.27.0 in /usr/local/lib/python3.11/dist-packages (from chromadb) (0.28.1)\n",
            "Requirement already satisfied: rich>=10.11.0 in /usr/local/lib/python3.11/dist-packages (from chromadb) (13.9.4)\n",
            "Requirement already satisfied: jsonschema>=4.19.0 in /usr/local/lib/python3.11/dist-packages (from chromadb) (4.23.0)\n",
            "Requirement already satisfied: starlette<0.46.0,>=0.40.0 in /usr/local/lib/python3.11/dist-packages (from fastapi==0.115.9->chromadb) (0.45.3)\n",
            "Requirement already satisfied: langchain-text-splitters<1.0.0,>=0.3.8 in /usr/local/lib/python3.11/dist-packages (from langchain) (0.3.8)\n",
            "Requirement already satisfied: transformers<5.0.0,>=4.41.0 in /usr/local/lib/python3.11/dist-packages (from sentence_transformers) (4.50.3)\n",
            "Requirement already satisfied: torch>=1.11.0 in /usr/local/lib/python3.11/dist-packages (from sentence_transformers) (2.6.0+cu124)\n",
            "Requirement already satisfied: scikit-learn in /usr/local/lib/python3.11/dist-packages (from sentence_transformers) (1.6.1)\n",
            "Requirement already satisfied: scipy in /usr/local/lib/python3.11/dist-packages (from sentence_transformers) (1.14.1)\n",
            "Requirement already satisfied: huggingface-hub>=0.20.0 in /usr/local/lib/python3.11/dist-packages (from sentence_transformers) (0.30.1)\n",
            "Requirement already satisfied: Pillow in /usr/local/lib/python3.11/dist-packages (from sentence_transformers) (11.1.0)\n",
            "Requirement already satisfied: aiohappyeyeballs>=2.3.0 in /usr/local/lib/python3.11/dist-packages (from aiohttp<4.0.0,>=3.8.3->langchain_community) (2.6.1)\n",
            "Requirement already satisfied: aiosignal>=1.1.2 in /usr/local/lib/python3.11/dist-packages (from aiohttp<4.0.0,>=3.8.3->langchain_community) (1.3.2)\n",
            "Requirement already satisfied: attrs>=17.3.0 in /usr/local/lib/python3.11/dist-packages (from aiohttp<4.0.0,>=3.8.3->langchain_community) (25.3.0)\n",
            "Requirement already satisfied: frozenlist>=1.1.1 in /usr/local/lib/python3.11/dist-packages (from aiohttp<4.0.0,>=3.8.3->langchain_community) (1.5.0)\n",
            "Requirement already satisfied: multidict<7.0,>=4.5 in /usr/local/lib/python3.11/dist-packages (from aiohttp<4.0.0,>=3.8.3->langchain_community) (6.3.2)\n",
            "Requirement already satisfied: propcache>=0.2.0 in /usr/local/lib/python3.11/dist-packages (from aiohttp<4.0.0,>=3.8.3->langchain_community) (0.3.1)\n",
            "Requirement already satisfied: yarl<2.0,>=1.17.0 in /usr/local/lib/python3.11/dist-packages (from aiohttp<4.0.0,>=3.8.3->langchain_community) (1.18.3)\n",
            "Requirement already satisfied: pyproject_hooks in /usr/local/lib/python3.11/dist-packages (from build>=1.0.3->chromadb) (1.2.0)\n",
            "Requirement already satisfied: marshmallow<4.0.0,>=3.18.0 in /usr/local/lib/python3.11/dist-packages (from dataclasses-json<0.7,>=0.5.7->langchain_community) (3.26.1)\n",
            "Requirement already satisfied: typing-inspect<1,>=0.4.0 in /usr/local/lib/python3.11/dist-packages (from dataclasses-json<0.7,>=0.5.7->langchain_community) (0.9.0)\n",
            "Requirement already satisfied: anyio in /usr/local/lib/python3.11/dist-packages (from httpx>=0.27.0->chromadb) (4.9.0)\n",
            "Requirement already satisfied: certifi in /usr/local/lib/python3.11/dist-packages (from httpx>=0.27.0->chromadb) (2025.1.31)\n",
            "Requirement already satisfied: httpcore==1.* in /usr/local/lib/python3.11/dist-packages (from httpx>=0.27.0->chromadb) (1.0.7)\n",
            "Requirement already satisfied: idna in /usr/local/lib/python3.11/dist-packages (from httpx>=0.27.0->chromadb) (3.10)\n",
            "Requirement already satisfied: h11<0.15,>=0.13 in /usr/local/lib/python3.11/dist-packages (from httpcore==1.*->httpx>=0.27.0->chromadb) (0.14.0)\n",
            "Requirement already satisfied: filelock in /usr/local/lib/python3.11/dist-packages (from huggingface-hub>=0.20.0->sentence_transformers) (3.18.0)\n",
            "Requirement already satisfied: fsspec>=2023.5.0 in /usr/local/lib/python3.11/dist-packages (from huggingface-hub>=0.20.0->sentence_transformers) (2025.3.2)\n",
            "Requirement already satisfied: jsonschema-specifications>=2023.03.6 in /usr/local/lib/python3.11/dist-packages (from jsonschema>=4.19.0->chromadb) (2024.10.1)\n",
            "Requirement already satisfied: referencing>=0.28.4 in /usr/local/lib/python3.11/dist-packages (from jsonschema>=4.19.0->chromadb) (0.36.2)\n",
            "Requirement already satisfied: rpds-py>=0.7.1 in /usr/local/lib/python3.11/dist-packages (from jsonschema>=4.19.0->chromadb) (0.24.0)\n",
            "Requirement already satisfied: six>=1.9.0 in /usr/local/lib/python3.11/dist-packages (from kubernetes>=28.1.0->chromadb) (1.17.0)\n",
            "Requirement already satisfied: python-dateutil>=2.5.3 in /usr/local/lib/python3.11/dist-packages (from kubernetes>=28.1.0->chromadb) (2.8.2)\n",
            "Requirement already satisfied: google-auth>=1.0.1 in /usr/local/lib/python3.11/dist-packages (from kubernetes>=28.1.0->chromadb) (2.38.0)\n",
            "Requirement already satisfied: websocket-client!=0.40.0,!=0.41.*,!=0.42.*,>=0.32.0 in /usr/local/lib/python3.11/dist-packages (from kubernetes>=28.1.0->chromadb) (1.8.0)\n",
            "Requirement already satisfied: requests-oauthlib in /usr/local/lib/python3.11/dist-packages (from kubernetes>=28.1.0->chromadb) (2.0.0)\n",
            "Requirement already satisfied: oauthlib>=3.2.2 in /usr/local/lib/python3.11/dist-packages (from kubernetes>=28.1.0->chromadb) (3.2.2)\n",
            "Requirement already satisfied: urllib3>=1.24.2 in /usr/local/lib/python3.11/dist-packages (from kubernetes>=28.1.0->chromadb) (2.3.0)\n",
            "Requirement already satisfied: durationpy>=0.7 in /usr/local/lib/python3.11/dist-packages (from kubernetes>=28.1.0->chromadb) (0.9)\n",
            "Requirement already satisfied: jsonpatch<2.0,>=1.33 in /usr/local/lib/python3.11/dist-packages (from langchain-core<1.0.0,>=0.3.51->langchain_community) (1.33)\n",
            "Requirement already satisfied: requests-toolbelt<2.0.0,>=1.0.0 in /usr/local/lib/python3.11/dist-packages (from langsmith<0.4,>=0.1.125->langchain_community) (1.0.0)\n",
            "Requirement already satisfied: zstandard<0.24.0,>=0.23.0 in /usr/local/lib/python3.11/dist-packages (from langsmith<0.4,>=0.1.125->langchain_community) (0.23.0)\n",
            "Requirement already satisfied: coloredlogs in /usr/local/lib/python3.11/dist-packages (from onnxruntime>=1.14.1->chromadb) (15.0.1)\n",
            "Requirement already satisfied: flatbuffers in /usr/local/lib/python3.11/dist-packages (from onnxruntime>=1.14.1->chromadb) (25.2.10)\n",
            "Requirement already satisfied: protobuf in /usr/local/lib/python3.11/dist-packages (from onnxruntime>=1.14.1->chromadb) (5.29.4)\n",
            "Requirement already satisfied: sympy in /usr/local/lib/python3.11/dist-packages (from onnxruntime>=1.14.1->chromadb) (1.13.1)\n",
            "Requirement already satisfied: deprecated>=1.2.6 in /usr/local/lib/python3.11/dist-packages (from opentelemetry-api>=1.2.0->chromadb) (1.2.18)\n",
            "Requirement already satisfied: importlib-metadata<8.7.0,>=6.0 in /usr/local/lib/python3.11/dist-packages (from opentelemetry-api>=1.2.0->chromadb) (8.6.1)\n",
            "Requirement already satisfied: googleapis-common-protos~=1.52 in /usr/local/lib/python3.11/dist-packages (from opentelemetry-exporter-otlp-proto-grpc>=1.2.0->chromadb) (1.69.2)\n",
            "Requirement already satisfied: opentelemetry-exporter-otlp-proto-common==1.32.0 in /usr/local/lib/python3.11/dist-packages (from opentelemetry-exporter-otlp-proto-grpc>=1.2.0->chromadb) (1.32.0)\n",
            "Requirement already satisfied: opentelemetry-proto==1.32.0 in /usr/local/lib/python3.11/dist-packages (from opentelemetry-exporter-otlp-proto-grpc>=1.2.0->chromadb) (1.32.0)\n",
            "Requirement already satisfied: opentelemetry-instrumentation-asgi==0.53b0 in /usr/local/lib/python3.11/dist-packages (from opentelemetry-instrumentation-fastapi>=0.41b0->chromadb) (0.53b0)\n",
            "Requirement already satisfied: opentelemetry-instrumentation==0.53b0 in /usr/local/lib/python3.11/dist-packages (from opentelemetry-instrumentation-fastapi>=0.41b0->chromadb) (0.53b0)\n",
            "Requirement already satisfied: opentelemetry-semantic-conventions==0.53b0 in /usr/local/lib/python3.11/dist-packages (from opentelemetry-instrumentation-fastapi>=0.41b0->chromadb) (0.53b0)\n",
            "Requirement already satisfied: opentelemetry-util-http==0.53b0 in /usr/local/lib/python3.11/dist-packages (from opentelemetry-instrumentation-fastapi>=0.41b0->chromadb) (0.53b0)\n",
            "Requirement already satisfied: wrapt<2.0.0,>=1.0.0 in /usr/local/lib/python3.11/dist-packages (from opentelemetry-instrumentation==0.53b0->opentelemetry-instrumentation-fastapi>=0.41b0->chromadb) (1.17.2)\n",
            "Requirement already satisfied: asgiref~=3.0 in /usr/local/lib/python3.11/dist-packages (from opentelemetry-instrumentation-asgi==0.53b0->opentelemetry-instrumentation-fastapi>=0.41b0->chromadb) (3.8.1)\n",
            "Requirement already satisfied: monotonic>=1.5 in /usr/local/lib/python3.11/dist-packages (from posthog>=2.4.0->chromadb) (1.6)\n",
            "Requirement already satisfied: backoff>=1.10.0 in /usr/local/lib/python3.11/dist-packages (from posthog>=2.4.0->chromadb) (2.2.1)\n",
            "Requirement already satisfied: distro>=1.5.0 in /usr/local/lib/python3.11/dist-packages (from posthog>=2.4.0->chromadb) (1.9.0)\n",
            "Requirement already satisfied: annotated-types>=0.6.0 in /usr/local/lib/python3.11/dist-packages (from pydantic>=1.9->chromadb) (0.7.0)\n",
            "Requirement already satisfied: pydantic-core==2.33.1 in /usr/local/lib/python3.11/dist-packages (from pydantic>=1.9->chromadb) (2.33.1)\n",
            "Requirement already satisfied: typing-inspection>=0.4.0 in /usr/local/lib/python3.11/dist-packages (from pydantic>=1.9->chromadb) (0.4.0)\n",
            "Requirement already satisfied: python-dotenv>=0.21.0 in /usr/local/lib/python3.11/dist-packages (from pydantic-settings<3.0.0,>=2.4.0->langchain_community) (1.1.0)\n",
            "Requirement already satisfied: charset-normalizer<4,>=2 in /usr/local/lib/python3.11/dist-packages (from requests<3,>=2->langchain_community) (3.4.1)\n",
            "Requirement already satisfied: markdown-it-py>=2.2.0 in /usr/local/lib/python3.11/dist-packages (from rich>=10.11.0->chromadb) (3.0.0)\n",
            "Requirement already satisfied: pygments<3.0.0,>=2.13.0 in /usr/local/lib/python3.11/dist-packages (from rich>=10.11.0->chromadb) (2.18.0)\n",
            "Requirement already satisfied: greenlet>=1 in /usr/local/lib/python3.11/dist-packages (from SQLAlchemy<3,>=1.4->langchain_community) (3.1.1)\n",
            "Requirement already satisfied: networkx in /usr/local/lib/python3.11/dist-packages (from torch>=1.11.0->sentence_transformers) (3.4.2)\n",
            "Requirement already satisfied: jinja2 in /usr/local/lib/python3.11/dist-packages (from torch>=1.11.0->sentence_transformers) (3.1.6)\n",
            "Requirement already satisfied: nvidia-cuda-nvrtc-cu12==12.4.127 in /usr/local/lib/python3.11/dist-packages (from torch>=1.11.0->sentence_transformers) (12.4.127)\n",
            "Requirement already satisfied: nvidia-cuda-runtime-cu12==12.4.127 in /usr/local/lib/python3.11/dist-packages (from torch>=1.11.0->sentence_transformers) (12.4.127)\n",
            "Requirement already satisfied: nvidia-cuda-cupti-cu12==12.4.127 in /usr/local/lib/python3.11/dist-packages (from torch>=1.11.0->sentence_transformers) (12.4.127)\n",
            "Requirement already satisfied: nvidia-cudnn-cu12==9.1.0.70 in /usr/local/lib/python3.11/dist-packages (from torch>=1.11.0->sentence_transformers) (9.1.0.70)\n",
            "Requirement already satisfied: nvidia-cublas-cu12==12.4.5.8 in /usr/local/lib/python3.11/dist-packages (from torch>=1.11.0->sentence_transformers) (12.4.5.8)\n",
            "Requirement already satisfied: nvidia-cufft-cu12==11.2.1.3 in /usr/local/lib/python3.11/dist-packages (from torch>=1.11.0->sentence_transformers) (11.2.1.3)\n",
            "Requirement already satisfied: nvidia-curand-cu12==10.3.5.147 in /usr/local/lib/python3.11/dist-packages (from torch>=1.11.0->sentence_transformers) (10.3.5.147)\n",
            "Requirement already satisfied: nvidia-cusolver-cu12==11.6.1.9 in /usr/local/lib/python3.11/dist-packages (from torch>=1.11.0->sentence_transformers) (11.6.1.9)\n",
            "Requirement already satisfied: nvidia-cusparse-cu12==12.3.1.170 in /usr/local/lib/python3.11/dist-packages (from torch>=1.11.0->sentence_transformers) (12.3.1.170)\n",
            "Requirement already satisfied: nvidia-cusparselt-cu12==0.6.2 in /usr/local/lib/python3.11/dist-packages (from torch>=1.11.0->sentence_transformers) (0.6.2)\n",
            "Requirement already satisfied: nvidia-nccl-cu12==2.21.5 in /usr/local/lib/python3.11/dist-packages (from torch>=1.11.0->sentence_transformers) (2.21.5)\n",
            "Requirement already satisfied: nvidia-nvtx-cu12==12.4.127 in /usr/local/lib/python3.11/dist-packages (from torch>=1.11.0->sentence_transformers) (12.4.127)\n",
            "Requirement already satisfied: nvidia-nvjitlink-cu12==12.4.127 in /usr/local/lib/python3.11/dist-packages (from torch>=1.11.0->sentence_transformers) (12.4.127)\n",
            "Requirement already satisfied: triton==3.2.0 in /usr/local/lib/python3.11/dist-packages (from torch>=1.11.0->sentence_transformers) (3.2.0)\n",
            "Requirement already satisfied: mpmath<1.4,>=1.1.0 in /usr/local/lib/python3.11/dist-packages (from sympy->onnxruntime>=1.14.1->chromadb) (1.3.0)\n",
            "Requirement already satisfied: regex!=2019.12.17 in /usr/local/lib/python3.11/dist-packages (from transformers<5.0.0,>=4.41.0->sentence_transformers) (2024.11.6)\n",
            "Requirement already satisfied: safetensors>=0.4.3 in /usr/local/lib/python3.11/dist-packages (from transformers<5.0.0,>=4.41.0->sentence_transformers) (0.5.3)\n",
            "Requirement already satisfied: click>=8.0.0 in /usr/local/lib/python3.11/dist-packages (from typer>=0.9.0->chromadb) (8.1.8)\n",
            "Requirement already satisfied: shellingham>=1.3.0 in /usr/local/lib/python3.11/dist-packages (from typer>=0.9.0->chromadb) (1.5.4)\n",
            "Requirement already satisfied: httptools>=0.6.3 in /usr/local/lib/python3.11/dist-packages (from uvicorn[standard]>=0.18.3->chromadb) (0.6.4)\n",
            "Requirement already satisfied: uvloop!=0.15.0,!=0.15.1,>=0.14.0 in /usr/local/lib/python3.11/dist-packages (from uvicorn[standard]>=0.18.3->chromadb) (0.21.0)\n",
            "Requirement already satisfied: watchfiles>=0.13 in /usr/local/lib/python3.11/dist-packages (from uvicorn[standard]>=0.18.3->chromadb) (1.0.5)\n",
            "Requirement already satisfied: websockets>=10.4 in /usr/local/lib/python3.11/dist-packages (from uvicorn[standard]>=0.18.3->chromadb) (15.0.1)\n",
            "Requirement already satisfied: joblib>=1.2.0 in /usr/local/lib/python3.11/dist-packages (from scikit-learn->sentence_transformers) (1.4.2)\n",
            "Requirement already satisfied: threadpoolctl>=3.1.0 in /usr/local/lib/python3.11/dist-packages (from scikit-learn->sentence_transformers) (3.6.0)\n",
            "Requirement already satisfied: cachetools<6.0,>=2.0.0 in /usr/local/lib/python3.11/dist-packages (from google-auth>=1.0.1->kubernetes>=28.1.0->chromadb) (5.5.2)\n",
            "Requirement already satisfied: pyasn1-modules>=0.2.1 in /usr/local/lib/python3.11/dist-packages (from google-auth>=1.0.1->kubernetes>=28.1.0->chromadb) (0.4.2)\n",
            "Requirement already satisfied: rsa<5,>=3.1.4 in /usr/local/lib/python3.11/dist-packages (from google-auth>=1.0.1->kubernetes>=28.1.0->chromadb) (4.9)\n",
            "Requirement already satisfied: zipp>=3.20 in /usr/local/lib/python3.11/dist-packages (from importlib-metadata<8.7.0,>=6.0->opentelemetry-api>=1.2.0->chromadb) (3.21.0)\n",
            "Requirement already satisfied: jsonpointer>=1.9 in /usr/local/lib/python3.11/dist-packages (from jsonpatch<2.0,>=1.33->langchain-core<1.0.0,>=0.3.51->langchain_community) (3.0.0)\n",
            "Requirement already satisfied: mdurl~=0.1 in /usr/local/lib/python3.11/dist-packages (from markdown-it-py>=2.2.0->rich>=10.11.0->chromadb) (0.1.2)\n",
            "Requirement already satisfied: sniffio>=1.1 in /usr/local/lib/python3.11/dist-packages (from anyio->httpx>=0.27.0->chromadb) (1.3.1)\n",
            "Requirement already satisfied: mypy-extensions>=0.3.0 in /usr/local/lib/python3.11/dist-packages (from typing-inspect<1,>=0.4.0->dataclasses-json<0.7,>=0.5.7->langchain_community) (1.0.0)\n",
            "Requirement already satisfied: humanfriendly>=9.1 in /usr/local/lib/python3.11/dist-packages (from coloredlogs->onnxruntime>=1.14.1->chromadb) (10.0)\n",
            "Requirement already satisfied: MarkupSafe>=2.0 in /usr/local/lib/python3.11/dist-packages (from jinja2->torch>=1.11.0->sentence_transformers) (3.0.2)\n",
            "Requirement already satisfied: pyasn1<0.7.0,>=0.6.1 in /usr/local/lib/python3.11/dist-packages (from pyasn1-modules>=0.2.1->google-auth>=1.0.1->kubernetes>=28.1.0->chromadb) (0.6.1)\n"
          ]
        }
      ],
      "source": [
        "!pip install langchain_community langchainhub chromadb langchain sentence_transformers"
      ]
    },
    {
      "cell_type": "code",
      "source": [
        "!pip install fireworks-ai"
      ],
      "metadata": {
        "colab": {
          "base_uri": "https://localhost:8080/"
        },
        "collapsed": true,
        "id": "W5ZTnhLbnvtl",
        "outputId": "6f51aa66-2de0-459e-f528-8cd372e17282"
      },
      "execution_count": 2,
      "outputs": [
        {
          "output_type": "stream",
          "name": "stdout",
          "text": [
            "Requirement already satisfied: fireworks-ai in /usr/local/lib/python3.11/dist-packages (0.15.12)\n",
            "Requirement already satisfied: httpx in /usr/local/lib/python3.11/dist-packages (from fireworks-ai) (0.28.1)\n",
            "Requirement already satisfied: httpx-ws in /usr/local/lib/python3.11/dist-packages (from fireworks-ai) (0.7.2)\n",
            "Requirement already satisfied: httpx_sse in /usr/local/lib/python3.11/dist-packages (from fireworks-ai) (0.4.0)\n",
            "Requirement already satisfied: pydantic in /usr/local/lib/python3.11/dist-packages (from fireworks-ai) (2.11.2)\n",
            "Requirement already satisfied: Pillow in /usr/local/lib/python3.11/dist-packages (from fireworks-ai) (11.1.0)\n",
            "Requirement already satisfied: anyio in /usr/local/lib/python3.11/dist-packages (from httpx->fireworks-ai) (4.9.0)\n",
            "Requirement already satisfied: certifi in /usr/local/lib/python3.11/dist-packages (from httpx->fireworks-ai) (2025.1.31)\n",
            "Requirement already satisfied: httpcore==1.* in /usr/local/lib/python3.11/dist-packages (from httpx->fireworks-ai) (1.0.7)\n",
            "Requirement already satisfied: idna in /usr/local/lib/python3.11/dist-packages (from httpx->fireworks-ai) (3.10)\n",
            "Requirement already satisfied: h11<0.15,>=0.13 in /usr/local/lib/python3.11/dist-packages (from httpcore==1.*->httpx->fireworks-ai) (0.14.0)\n",
            "Requirement already satisfied: wsproto in /usr/local/lib/python3.11/dist-packages (from httpx-ws->fireworks-ai) (1.2.0)\n",
            "Requirement already satisfied: annotated-types>=0.6.0 in /usr/local/lib/python3.11/dist-packages (from pydantic->fireworks-ai) (0.7.0)\n",
            "Requirement already satisfied: pydantic-core==2.33.1 in /usr/local/lib/python3.11/dist-packages (from pydantic->fireworks-ai) (2.33.1)\n",
            "Requirement already satisfied: typing-extensions>=4.12.2 in /usr/local/lib/python3.11/dist-packages (from pydantic->fireworks-ai) (4.13.1)\n",
            "Requirement already satisfied: typing-inspection>=0.4.0 in /usr/local/lib/python3.11/dist-packages (from pydantic->fireworks-ai) (0.4.0)\n",
            "Requirement already satisfied: sniffio>=1.1 in /usr/local/lib/python3.11/dist-packages (from anyio->httpx->fireworks-ai) (1.3.1)\n"
          ]
        }
      ]
    },
    {
      "cell_type": "code",
      "source": [
        "from google.colab import  userdata\n",
        "import os\n",
        "os.environ[\"FIREWORKS_API_KEY\"] = userdata.get('test_api_fireworks')"
      ],
      "metadata": {
        "id": "TVo4KcQWU9wy"
      },
      "execution_count": 3,
      "outputs": []
    },
    {
      "cell_type": "code",
      "source": [
        "from langchain_community.document_loaders import WebBaseLoader\n",
        "loader = WebBaseLoader(web_paths=[\"https://akash-adhya-portfolio.vercel.app\"])\n",
        "docs = loader.load()\n",
        "print(docs)"
      ],
      "metadata": {
        "colab": {
          "base_uri": "https://localhost:8080/"
        },
        "id": "Mag93SGnVmf6",
        "outputId": "331384ae-2be6-4173-bc15-bc4f43199053"
      },
      "execution_count": 4,
      "outputs": [
        {
          "output_type": "stream",
          "name": "stderr",
          "text": [
            "WARNING:langchain_community.utils.user_agent:USER_AGENT environment variable not set, consider setting it to identify your requests.\n"
          ]
        },
        {
          "output_type": "stream",
          "name": "stdout",
          "text": [
            "[Document(metadata={'source': 'https://akash-adhya-portfolio.vercel.app', 'title': 'Portfolio of Akash Adhya - Software Developer', 'description': 'This is the portfolio of Akash Adhya. I am a full stack developer and a self taught developer. I love to learn new things and I am always open to collaborating with others. I am a quick learner and I am always looking for new challenges.', 'language': 'en'}, page_content=\"Portfolio of Akash Adhya - Software DeveloperAKASH ADHYAABOUTSKILLSEDUCATIONPROJECTSHello, This is  AKASH ADHYA , I'm a Professional Software Developer.Contact meGet Resumeconstcoder={name:'AKASH ADHYA',skills:['React', 'NextJS', 'Redux', 'Express', 'NestJS', 'MySql', 'MongoDB', 'Docker', 'AWS'],hardWorker:true,quickLearner:true,problemSolver:true,hireable:function() {return(this.hardWorker&&this.problemSolver&&this.skills.length>=5);};};ABOUT MEWho I am?My name is AKASH ADHYA. I am a professional and enthusiastic programmer in my daily life. I am a quick learner with a self-learning attitude. I love to learn and explore new technologies and am passionate about problem-solving. I love almost all the stacks of web application development and love to make the web more open to the world. My core skill is based on JavaScript and I love to do most of the things using JavaScript. I am available for any kind of job opportunity that suits my skills and interests.Experiences(SEP 2024 - Present)Self EmployedCode and build something everyday.SkillsPROJECTSADVANCE DRIVING ASSISTANCE SYSTEM (ADAS)constproject={name:'ADVANCE DRIVING ASSISTANCE SYSTEM (ADAS)',tools: ['Arduino', 'Arduino Programming', 'Prototype creation', 'Sensors', 'Motors],myRole:Lead Programmer,Description: Our project, Advanced Driving Assistance System (ADAS), focused on building a prototype showcasing five key mechanisms: Lane Detection, Collision Avoidance, Adaptive Cruise Control, Blind Spot Monitoring, and Driver Drowsiness Detection. Each step was successfully implemented, demonstrating enhanced safety and convenience during our college’s Business Fest event and Ranked First in the whole business fest.,};Travel Agency Appconstproject={name:'Travel Agency App',tools: ['NextJS', 'Tailwind CSS', 'Google Maps', 'NestJS', 'TypeScript', 'MySQL', 'AWS S3', 'Sun-Editor', 'Gmail Passkey],myRole:Full Stack Developer,Description: I have designed and developed a full-stack web app for 2Expedition, a travel agency in Armenia. I created the UI using NextJS, Typescript, MUI, TailwindCSS, Google Maps, Sun-Editor, and React Slick. The app supports multiple languages and currencies. I developed the API using NestJS, Typescript, MySQL, TypeORM, AWS, and Nodemailer. I deployed the front-end app to AWS Amplify and the back-end app to AWS EC2.,};AI Powered Real Estateconstproject={name:'AI Powered Real Estate',tools: ['React', 'Bootstrap', 'SCSS', 'Stripe', 'Express', 'TypeScript', 'MongoDB', 'Azure Blob', 'OpenAI API', 'Replicate AI', 'Cronjob', 'JWT],myRole:Full Stack Developer,Description: My team built an AI-based real estate app using Replicate API and OpenAI. We used Express, Typescript, OpenAI, Replicate, Stripe, and Mongoose to develop the API. We utilized NextJS, Formik, TailwindCSS, and other npm libraries for the UI. We have trained multiple AI assistants using the latest GPT model and integrated Replicate API for image processing. We added role-based auth, subscription plans, Cron job scheduling, and payment integration with Stripe.,};Project Headingconstproject={name:'Project Heading',tools: ['Techs', 'that', 'are', 'going', 'to', 'be', 'used', 'goes', 'here],myRole:Your role in the project,Description: Placeholder : Here goes the description,};Educations2021 - 2024Bachelor of Computer Applications (BCA)University of Burdwan2019 - 2021Higher SecondaryBishnupur High School, Bishnupur, Bankura2014 - 2019Secondary SchoolBishnupur High School, Bishnupur, BankuraCONTACTContact with meIf you have any questions or concerns, please don't hesitate to contact me. I am open to any work opportunities that align with my skills and interests.Your Name: Your Email: Your Message: Send Messageakashadhya19@gmail.com+919851671778Bishnpur, Bankura, West Bengal, India - 722122 © Developer Portfolio by Akash AdhyaStarFork\")]\n"
          ]
        }
      ]
    },
    {
      "cell_type": "code",
      "source": [
        "from langchain.text_splitter import RecursiveCharacterTextSplitter\n",
        "text_splitter = RecursiveCharacterTextSplitter(chunk_size=1000, chunk_overlap=200)\n",
        "texts = text_splitter.split_documents(docs)\n",
        "print(texts)"
      ],
      "metadata": {
        "colab": {
          "base_uri": "https://localhost:8080/"
        },
        "id": "IIuhCg4oYJXC",
        "outputId": "e91c2aa5-f740-41ac-82b2-c623b3e16735"
      },
      "execution_count": 5,
      "outputs": [
        {
          "output_type": "stream",
          "name": "stdout",
          "text": [
            "[Document(metadata={'source': 'https://akash-adhya-portfolio.vercel.app', 'title': 'Portfolio of Akash Adhya - Software Developer', 'description': 'This is the portfolio of Akash Adhya. I am a full stack developer and a self taught developer. I love to learn new things and I am always open to collaborating with others. I am a quick learner and I am always looking for new challenges.', 'language': 'en'}, page_content=\"Portfolio of Akash Adhya - Software DeveloperAKASH ADHYAABOUTSKILLSEDUCATIONPROJECTSHello, This is  AKASH ADHYA , I'm a Professional Software Developer.Contact meGet Resumeconstcoder={name:'AKASH ADHYA',skills:['React', 'NextJS', 'Redux', 'Express', 'NestJS', 'MySql', 'MongoDB', 'Docker', 'AWS'],hardWorker:true,quickLearner:true,problemSolver:true,hireable:function() {return(this.hardWorker&&this.problemSolver&&this.skills.length>=5);};};ABOUT MEWho I am?My name is AKASH ADHYA. I am a professional and enthusiastic programmer in my daily life. I am a quick learner with a self-learning attitude. I love to learn and explore new technologies and am passionate about problem-solving. I love almost all the stacks of web application development and love to make the web more open to the world. My core skill is based on JavaScript and I love to do most of the things using JavaScript. I am available for any kind of job opportunity that suits my skills and interests.Experiences(SEP 2024 -\"), Document(metadata={'source': 'https://akash-adhya-portfolio.vercel.app', 'title': 'Portfolio of Akash Adhya - Software Developer', 'description': 'This is the portfolio of Akash Adhya. I am a full stack developer and a self taught developer. I love to learn new things and I am always open to collaborating with others. I am a quick learner and I am always looking for new challenges.', 'language': 'en'}, page_content=\"My core skill is based on JavaScript and I love to do most of the things using JavaScript. I am available for any kind of job opportunity that suits my skills and interests.Experiences(SEP 2024 - Present)Self EmployedCode and build something everyday.SkillsPROJECTSADVANCE DRIVING ASSISTANCE SYSTEM (ADAS)constproject={name:'ADVANCE DRIVING ASSISTANCE SYSTEM (ADAS)',tools: ['Arduino', 'Arduino Programming', 'Prototype creation', 'Sensors', 'Motors],myRole:Lead Programmer,Description: Our project, Advanced Driving Assistance System (ADAS), focused on building a prototype showcasing five key mechanisms: Lane Detection, Collision Avoidance, Adaptive Cruise Control, Blind Spot Monitoring, and Driver Drowsiness Detection. Each step was successfully implemented, demonstrating enhanced safety and convenience during our college’s Business Fest event and Ranked First in the whole business fest.,};Travel Agency Appconstproject={name:'Travel Agency App',tools: ['NextJS', 'Tailwind CSS', 'Google\"), Document(metadata={'source': 'https://akash-adhya-portfolio.vercel.app', 'title': 'Portfolio of Akash Adhya - Software Developer', 'description': 'This is the portfolio of Akash Adhya. I am a full stack developer and a self taught developer. I love to learn new things and I am always open to collaborating with others. I am a quick learner and I am always looking for new challenges.', 'language': 'en'}, page_content=\"convenience during our college’s Business Fest event and Ranked First in the whole business fest.,};Travel Agency Appconstproject={name:'Travel Agency App',tools: ['NextJS', 'Tailwind CSS', 'Google Maps', 'NestJS', 'TypeScript', 'MySQL', 'AWS S3', 'Sun-Editor', 'Gmail Passkey],myRole:Full Stack Developer,Description: I have designed and developed a full-stack web app for 2Expedition, a travel agency in Armenia. I created the UI using NextJS, Typescript, MUI, TailwindCSS, Google Maps, Sun-Editor, and React Slick. The app supports multiple languages and currencies. I developed the API using NestJS, Typescript, MySQL, TypeORM, AWS, and Nodemailer. I deployed the front-end app to AWS Amplify and the back-end app to AWS EC2.,};AI Powered Real Estateconstproject={name:'AI Powered Real Estate',tools: ['React', 'Bootstrap', 'SCSS', 'Stripe', 'Express', 'TypeScript', 'MongoDB', 'Azure Blob', 'OpenAI API', 'Replicate AI', 'Cronjob', 'JWT],myRole:Full Stack Developer,Description: My team built\"), Document(metadata={'source': 'https://akash-adhya-portfolio.vercel.app', 'title': 'Portfolio of Akash Adhya - Software Developer', 'description': 'This is the portfolio of Akash Adhya. I am a full stack developer and a self taught developer. I love to learn new things and I am always open to collaborating with others. I am a quick learner and I am always looking for new challenges.', 'language': 'en'}, page_content=\"['React', 'Bootstrap', 'SCSS', 'Stripe', 'Express', 'TypeScript', 'MongoDB', 'Azure Blob', 'OpenAI API', 'Replicate AI', 'Cronjob', 'JWT],myRole:Full Stack Developer,Description: My team built an AI-based real estate app using Replicate API and OpenAI. We used Express, Typescript, OpenAI, Replicate, Stripe, and Mongoose to develop the API. We utilized NextJS, Formik, TailwindCSS, and other npm libraries for the UI. We have trained multiple AI assistants using the latest GPT model and integrated Replicate API for image processing. We added role-based auth, subscription plans, Cron job scheduling, and payment integration with Stripe.,};Project Headingconstproject={name:'Project Heading',tools: ['Techs', 'that', 'are', 'going', 'to', 'be', 'used', 'goes', 'here],myRole:Your role in the project,Description: Placeholder : Here goes the description,};Educations2021 - 2024Bachelor of Computer Applications (BCA)University of Burdwan2019 - 2021Higher SecondaryBishnupur High School, Bishnupur,\"), Document(metadata={'source': 'https://akash-adhya-portfolio.vercel.app', 'title': 'Portfolio of Akash Adhya - Software Developer', 'description': 'This is the portfolio of Akash Adhya. I am a full stack developer and a self taught developer. I love to learn new things and I am always open to collaborating with others. I am a quick learner and I am always looking for new challenges.', 'language': 'en'}, page_content=\"Placeholder : Here goes the description,};Educations2021 - 2024Bachelor of Computer Applications (BCA)University of Burdwan2019 - 2021Higher SecondaryBishnupur High School, Bishnupur, Bankura2014 - 2019Secondary SchoolBishnupur High School, Bishnupur, BankuraCONTACTContact with meIf you have any questions or concerns, please don't hesitate to contact me. I am open to any work opportunities that align with my skills and interests.Your Name: Your Email: Your Message: Send Messageakashadhya19@gmail.com+919851671778Bishnpur, Bankura, West Bengal, India - 722122 © Developer Portfolio by Akash AdhyaStarFork\")]\n"
          ]
        }
      ]
    },
    {
      "cell_type": "code",
      "source": [
        "# from langchain.embeddings.openai import OpenAIEmbeddings\n",
        "# from langchain.vectorstores import Chroma\n",
        "# vectorstore = Chroma.from_documents(documents=texts, embedding=OpenAIEmbeddings())\n",
        "\n",
        "from langchain.embeddings import HuggingFaceEmbeddings\n",
        "from langchain.vectorstores import Chroma\n",
        "\n",
        "embedding_model = HuggingFaceEmbeddings(model_name=\"sentence-transformers/all-MiniLM-L6-v2\")\n",
        "\n",
        "vectorstore = Chroma.from_documents(\n",
        "    documents=texts,\n",
        "    embedding=embedding_model,\n",
        "    persist_directory=None  # in-memory mode\n",
        ")\n"
      ],
      "metadata": {
        "colab": {
          "base_uri": "https://localhost:8080/"
        },
        "id": "eHo9nposbiw6",
        "outputId": "b92dfd9f-45ec-490f-9677-a56ec8d8829e",
        "collapsed": true
      },
      "execution_count": 6,
      "outputs": [
        {
          "output_type": "stream",
          "name": "stderr",
          "text": [
            "<ipython-input-6-3d37c2197a67>:8: LangChainDeprecationWarning: The class `HuggingFaceEmbeddings` was deprecated in LangChain 0.2.2 and will be removed in 1.0. An updated version of the class exists in the :class:`~langchain-huggingface package and should be used instead. To use it run `pip install -U :class:`~langchain-huggingface` and import as `from :class:`~langchain_huggingface import HuggingFaceEmbeddings``.\n",
            "  embedding_model = HuggingFaceEmbeddings(model_name=\"sentence-transformers/all-MiniLM-L6-v2\")\n",
            "/usr/local/lib/python3.11/dist-packages/huggingface_hub/utils/_auth.py:94: UserWarning: \n",
            "The secret `HF_TOKEN` does not exist in your Colab secrets.\n",
            "To authenticate with the Hugging Face Hub, create a token in your settings tab (https://huggingface.co/settings/tokens), set it as secret in your Google Colab and restart your session.\n",
            "You will be able to reuse this secret in all of your notebooks.\n",
            "Please note that authentication is recommended but still optional to access public models or datasets.\n",
            "  warnings.warn(\n"
          ]
        }
      ]
    },
    {
      "cell_type": "code",
      "source": [
        "print(vectorstore._collection.count())"
      ],
      "metadata": {
        "colab": {
          "base_uri": "https://localhost:8080/"
        },
        "id": "oUlb_aoQeVJh",
        "outputId": "d523b691-386a-41dc-c2fd-2822c25f3f2e"
      },
      "execution_count": 7,
      "outputs": [
        {
          "output_type": "stream",
          "name": "stdout",
          "text": [
            "5\n"
          ]
        }
      ]
    },
    {
      "cell_type": "code",
      "source": [
        "print(vectorstore._collection.get())"
      ],
      "metadata": {
        "id": "YMM3c_xZeh0p",
        "colab": {
          "base_uri": "https://localhost:8080/"
        },
        "outputId": "eb50250a-a9e4-4afb-d017-82afde2e3e4a"
      },
      "execution_count": 8,
      "outputs": [
        {
          "output_type": "stream",
          "name": "stdout",
          "text": [
            "{'ids': ['969f78e5-d0c3-4df1-b50f-90b119331bb4', 'c84168c8-260e-4618-9251-e521633bdfbd', '0fcff0f2-33cb-4d87-bba8-3221f086298e', '7f9503b0-fc77-453d-8208-e9fd27a291db', '39ae4f62-9569-420a-8405-9921a399a7ae'], 'embeddings': None, 'documents': [\"Portfolio of Akash Adhya - Software DeveloperAKASH ADHYAABOUTSKILLSEDUCATIONPROJECTSHello, This is  AKASH ADHYA , I'm a Professional Software Developer.Contact meGet Resumeconstcoder={name:'AKASH ADHYA',skills:['React', 'NextJS', 'Redux', 'Express', 'NestJS', 'MySql', 'MongoDB', 'Docker', 'AWS'],hardWorker:true,quickLearner:true,problemSolver:true,hireable:function() {return(this.hardWorker&&this.problemSolver&&this.skills.length>=5);};};ABOUT MEWho I am?My name is AKASH ADHYA. I am a professional and enthusiastic programmer in my daily life. I am a quick learner with a self-learning attitude. I love to learn and explore new technologies and am passionate about problem-solving. I love almost all the stacks of web application development and love to make the web more open to the world. My core skill is based on JavaScript and I love to do most of the things using JavaScript. I am available for any kind of job opportunity that suits my skills and interests.Experiences(SEP 2024 -\", \"My core skill is based on JavaScript and I love to do most of the things using JavaScript. I am available for any kind of job opportunity that suits my skills and interests.Experiences(SEP 2024 - Present)Self EmployedCode and build something everyday.SkillsPROJECTSADVANCE DRIVING ASSISTANCE SYSTEM (ADAS)constproject={name:'ADVANCE DRIVING ASSISTANCE SYSTEM (ADAS)',tools: ['Arduino', 'Arduino Programming', 'Prototype creation', 'Sensors', 'Motors],myRole:Lead Programmer,Description: Our project, Advanced Driving Assistance System (ADAS), focused on building a prototype showcasing five key mechanisms: Lane Detection, Collision Avoidance, Adaptive Cruise Control, Blind Spot Monitoring, and Driver Drowsiness Detection. Each step was successfully implemented, demonstrating enhanced safety and convenience during our college’s Business Fest event and Ranked First in the whole business fest.,};Travel Agency Appconstproject={name:'Travel Agency App',tools: ['NextJS', 'Tailwind CSS', 'Google\", \"convenience during our college’s Business Fest event and Ranked First in the whole business fest.,};Travel Agency Appconstproject={name:'Travel Agency App',tools: ['NextJS', 'Tailwind CSS', 'Google Maps', 'NestJS', 'TypeScript', 'MySQL', 'AWS S3', 'Sun-Editor', 'Gmail Passkey],myRole:Full Stack Developer,Description: I have designed and developed a full-stack web app for 2Expedition, a travel agency in Armenia. I created the UI using NextJS, Typescript, MUI, TailwindCSS, Google Maps, Sun-Editor, and React Slick. The app supports multiple languages and currencies. I developed the API using NestJS, Typescript, MySQL, TypeORM, AWS, and Nodemailer. I deployed the front-end app to AWS Amplify and the back-end app to AWS EC2.,};AI Powered Real Estateconstproject={name:'AI Powered Real Estate',tools: ['React', 'Bootstrap', 'SCSS', 'Stripe', 'Express', 'TypeScript', 'MongoDB', 'Azure Blob', 'OpenAI API', 'Replicate AI', 'Cronjob', 'JWT],myRole:Full Stack Developer,Description: My team built\", \"['React', 'Bootstrap', 'SCSS', 'Stripe', 'Express', 'TypeScript', 'MongoDB', 'Azure Blob', 'OpenAI API', 'Replicate AI', 'Cronjob', 'JWT],myRole:Full Stack Developer,Description: My team built an AI-based real estate app using Replicate API and OpenAI. We used Express, Typescript, OpenAI, Replicate, Stripe, and Mongoose to develop the API. We utilized NextJS, Formik, TailwindCSS, and other npm libraries for the UI. We have trained multiple AI assistants using the latest GPT model and integrated Replicate API for image processing. We added role-based auth, subscription plans, Cron job scheduling, and payment integration with Stripe.,};Project Headingconstproject={name:'Project Heading',tools: ['Techs', 'that', 'are', 'going', 'to', 'be', 'used', 'goes', 'here],myRole:Your role in the project,Description: Placeholder : Here goes the description,};Educations2021 - 2024Bachelor of Computer Applications (BCA)University of Burdwan2019 - 2021Higher SecondaryBishnupur High School, Bishnupur,\", \"Placeholder : Here goes the description,};Educations2021 - 2024Bachelor of Computer Applications (BCA)University of Burdwan2019 - 2021Higher SecondaryBishnupur High School, Bishnupur, Bankura2014 - 2019Secondary SchoolBishnupur High School, Bishnupur, BankuraCONTACTContact with meIf you have any questions or concerns, please don't hesitate to contact me. I am open to any work opportunities that align with my skills and interests.Your Name: Your Email: Your Message: Send Messageakashadhya19@gmail.com+919851671778Bishnpur, Bankura, West Bengal, India - 722122 © Developer Portfolio by Akash AdhyaStarFork\"], 'uris': None, 'included': ['metadatas', 'documents'], 'data': None, 'metadatas': [{'title': 'Portfolio of Akash Adhya - Software Developer', 'description': 'This is the portfolio of Akash Adhya. I am a full stack developer and a self taught developer. I love to learn new things and I am always open to collaborating with others. I am a quick learner and I am always looking for new challenges.', 'source': 'https://akash-adhya-portfolio.vercel.app', 'language': 'en'}, {'title': 'Portfolio of Akash Adhya - Software Developer', 'source': 'https://akash-adhya-portfolio.vercel.app', 'language': 'en', 'description': 'This is the portfolio of Akash Adhya. I am a full stack developer and a self taught developer. I love to learn new things and I am always open to collaborating with others. I am a quick learner and I am always looking for new challenges.'}, {'language': 'en', 'title': 'Portfolio of Akash Adhya - Software Developer', 'description': 'This is the portfolio of Akash Adhya. I am a full stack developer and a self taught developer. I love to learn new things and I am always open to collaborating with others. I am a quick learner and I am always looking for new challenges.', 'source': 'https://akash-adhya-portfolio.vercel.app'}, {'description': 'This is the portfolio of Akash Adhya. I am a full stack developer and a self taught developer. I love to learn new things and I am always open to collaborating with others. I am a quick learner and I am always looking for new challenges.', 'language': 'en', 'source': 'https://akash-adhya-portfolio.vercel.app', 'title': 'Portfolio of Akash Adhya - Software Developer'}, {'description': 'This is the portfolio of Akash Adhya. I am a full stack developer and a self taught developer. I love to learn new things and I am always open to collaborating with others. I am a quick learner and I am always looking for new challenges.', 'title': 'Portfolio of Akash Adhya - Software Developer', 'source': 'https://akash-adhya-portfolio.vercel.app', 'language': 'en'}]}\n"
          ]
        }
      ]
    },
    {
      "cell_type": "code",
      "source": [
        "print(\"\\ncollection 1 : \\n\", vectorstore._collection.get(ids=['969f78e5-d0c3-4df1-b50f-90b119331bb4'], include=['embeddings', 'documents']))\n",
        "print(\"\\ncollection 2 : \\n\", vectorstore._collection.get(ids=['c84168c8-260e-4618-9251-e521633bdfbd'], include=['embeddings', 'documents']))\n",
        "print(\"\\ncollection 3 : \\n\", vectorstore._collection.get(ids=['0fcff0f2-33cb-4d87-bba8-3221f086298e'], include=['embeddings', 'documents']))"
      ],
      "metadata": {
        "colab": {
          "base_uri": "https://localhost:8080/"
        },
        "id": "gzgfgmUJ-oO6",
        "outputId": "bc1dadee-87e3-4f4d-e3a7-c7f39ded6fc1",
        "collapsed": true
      },
      "execution_count": 10,
      "outputs": [
        {
          "output_type": "stream",
          "name": "stdout",
          "text": [
            "\n",
            "collection 1 : \n",
            " {'ids': ['969f78e5-d0c3-4df1-b50f-90b119331bb4'], 'embeddings': array([[-7.63913244e-02,  1.33463936e-02, -3.02242618e-02,\n",
            "         2.79921778e-02,  4.05260101e-02, -3.32747363e-02,\n",
            "         1.04343221e-01,  6.02921806e-02, -6.01340234e-02,\n",
            "         2.18712613e-02, -2.39345767e-02, -7.46205375e-02,\n",
            "        -3.48526686e-02, -1.97434425e-02, -1.22061409e-02,\n",
            "         9.39144120e-02, -3.38512026e-02, -6.02659695e-02,\n",
            "        -3.44906598e-02, -9.63269323e-02, -1.24097811e-02,\n",
            "        -2.75769513e-02,  2.67341956e-02, -2.99467389e-02,\n",
            "        -2.45980136e-02,  8.98290612e-03,  8.43443535e-03,\n",
            "         1.86009184e-02, -1.24016022e-02, -7.11127371e-02,\n",
            "         3.73088270e-02,  2.62091774e-03, -3.02694123e-02,\n",
            "        -1.99244358e-02,  2.15904899e-02,  1.51010051e-01,\n",
            "        -5.06999530e-02, -2.53888369e-02, -6.97681634e-03,\n",
            "        -5.20315953e-02, -4.44718860e-02, -2.36113518e-02,\n",
            "        -5.58892004e-02, -8.16158280e-02,  2.31304150e-02,\n",
            "        -1.34508282e-01, -7.03907311e-02, -2.13281959e-02,\n",
            "         1.06087819e-01,  1.39121590e-02, -1.36465833e-01,\n",
            "        -1.08263664e-01, -2.35046130e-02, -4.91836444e-02,\n",
            "        -4.72337231e-02,  3.59257162e-02,  3.13310511e-03,\n",
            "        -3.83857917e-03, -5.71069159e-02,  7.12686684e-03,\n",
            "         2.60211378e-02,  5.55249676e-03,  2.59474926e-02,\n",
            "         3.16744447e-02,  3.93757895e-02, -5.24789374e-03,\n",
            "        -2.36766413e-02,  5.10574356e-02, -1.05495257e-02,\n",
            "         4.70843464e-02, -1.23279383e-02, -9.88655910e-03,\n",
            "        -6.28162548e-02,  3.82548361e-03,  4.32979278e-02,\n",
            "        -1.16728075e-01, -9.31003038e-03, -3.74210589e-02,\n",
            "         8.78647864e-02,  6.65594488e-02,  2.18545254e-02,\n",
            "        -4.94594947e-02, -4.89708632e-02,  3.51068936e-02,\n",
            "        -1.96387898e-02,  1.78219136e-02,  5.56238256e-02,\n",
            "         2.57697813e-02,  7.63164684e-02, -5.85684478e-02,\n",
            "         2.40754057e-03, -8.04882124e-02,  2.34295372e-02,\n",
            "         7.62321204e-02,  7.98199791e-03, -4.71710786e-03,\n",
            "         3.82768512e-02,  5.38225621e-02, -1.16064779e-01,\n",
            "         4.14263830e-02, -1.14051020e-03, -4.02621217e-02,\n",
            "         4.52850722e-02, -2.04117838e-02, -8.56267661e-02,\n",
            "         5.09714819e-02, -1.67831182e-02,  3.52829620e-02,\n",
            "         1.28547093e-02, -1.51520791e-02, -7.82188103e-02,\n",
            "         3.68478335e-02, -9.34364349e-02,  6.15845919e-02,\n",
            "        -1.51040638e-03,  4.87583913e-02, -3.78062800e-02,\n",
            "        -6.32934570e-02, -4.64497600e-03,  8.53462219e-02,\n",
            "         8.54373127e-02,  1.58356756e-01,  2.35507614e-03,\n",
            "         2.91375760e-02,  2.48107477e-03, -5.80340177e-02,\n",
            "        -3.47062200e-02,  2.82893368e-33,  6.16038740e-02,\n",
            "         6.51149899e-02,  2.69106831e-02,  8.87125432e-02,\n",
            "         4.90034223e-02, -1.88035201e-02,  4.05471809e-02,\n",
            "         1.09615296e-01, -1.32832527e-01,  3.80685776e-02,\n",
            "         4.69222963e-02,  3.56644914e-02, -1.72724240e-02,\n",
            "         4.46099080e-02,  7.23316893e-03, -6.67275637e-02,\n",
            "         1.18375355e-02, -1.97515432e-02,  4.29860502e-02,\n",
            "         1.97134279e-02, -7.55516142e-02, -4.20288369e-02,\n",
            "        -9.51829329e-02, -2.97238082e-02,  7.65779689e-02,\n",
            "        -2.04966106e-02,  2.77545601e-02,  3.31541225e-02,\n",
            "        -8.02922845e-02,  2.96306759e-02,  3.64643261e-02,\n",
            "        -3.76464240e-02, -1.21325441e-01,  2.76241079e-03,\n",
            "         9.52684693e-03, -2.30653435e-02, -2.75543276e-02,\n",
            "        -5.92598207e-02, -6.82936329e-03, -1.71258878e-02,\n",
            "        -3.47754993e-02,  3.33254188e-02,  6.12018775e-05,\n",
            "         3.64769362e-02,  6.89062988e-03, -1.51849585e-02,\n",
            "         1.13690905e-01, -1.33970194e-02, -9.32642899e-04,\n",
            "         9.05459002e-02, -1.07978001e-01, -6.61227629e-02,\n",
            "         5.09181283e-02,  1.89478192e-02, -2.64668427e-02,\n",
            "         1.61298253e-02, -3.04623749e-02,  2.51692832e-02,\n",
            "        -4.93563293e-03,  3.48880216e-02, -4.01851609e-02,\n",
            "        -6.05633557e-02, -6.45186007e-02, -6.72132475e-03,\n",
            "        -1.80977453e-02,  3.39420214e-02, -3.21412012e-02,\n",
            "        -4.79211519e-03,  1.08113483e-01,  1.01796575e-02,\n",
            "        -2.50943396e-02,  3.14438865e-02,  1.41029447e-01,\n",
            "         7.59712979e-02, -2.59835087e-02, -1.21466061e-02,\n",
            "        -2.29571126e-02, -2.18463223e-03, -7.93347359e-02,\n",
            "         3.88826914e-02,  8.49360302e-02,  7.17709213e-02,\n",
            "        -6.53618798e-02,  4.77126986e-02,  3.41980159e-02,\n",
            "         3.38941999e-02,  5.38632236e-02, -3.98343691e-04,\n",
            "         2.63212882e-02,  9.13966149e-02,  2.21058019e-02,\n",
            "         6.71856524e-03,  1.19321682e-02, -3.35845463e-02,\n",
            "        -5.78663498e-02, -4.39925124e-33,  3.65132913e-02,\n",
            "        -7.00387284e-02, -5.08139767e-02, -1.69269647e-02,\n",
            "         9.63842794e-02, -3.82684357e-02,  9.33888629e-02,\n",
            "         6.89618662e-02,  8.01988225e-03, -9.47075989e-03,\n",
            "        -4.26200626e-04,  1.43155484e-02, -9.11671296e-03,\n",
            "        -3.91444005e-02, -2.45531388e-02,  6.07156232e-02,\n",
            "        -9.27540287e-02, -4.75205183e-02,  3.09555456e-02,\n",
            "        -3.85755040e-02, -1.86656490e-02,  1.10898912e-01,\n",
            "        -7.18284026e-02,  2.78285472e-03,  7.08038965e-03,\n",
            "         1.30003970e-02, -3.66025828e-02, -6.84144348e-03,\n",
            "        -4.38763946e-02,  6.96118027e-02,  5.52595360e-03,\n",
            "        -5.07912785e-02, -8.04951712e-02, -1.40182097e-02,\n",
            "        -7.25710904e-03, -2.82318573e-02, -4.71365862e-02,\n",
            "        -2.35996209e-02, -1.93700772e-02,  3.14887762e-02,\n",
            "         2.96298750e-02, -1.59839410e-02, -4.39289734e-02,\n",
            "        -9.85272452e-02, -5.18647069e-03, -2.26723999e-02,\n",
            "        -2.50931308e-02,  2.91044060e-02,  3.56094316e-02,\n",
            "        -9.88840312e-02, -3.16102766e-02, -3.92777734e-02,\n",
            "         7.00779408e-02, -3.88803408e-02,  5.13266260e-03,\n",
            "        -2.32856665e-02,  6.73802048e-02, -7.49909878e-02,\n",
            "         2.53005289e-02,  2.56895069e-02,  1.91602146e-03,\n",
            "         2.60638576e-02,  8.53010044e-02,  1.70865748e-02,\n",
            "         9.90414061e-03, -1.28999233e-01, -7.47455731e-02,\n",
            "         3.30504701e-02, -7.12853521e-02, -4.61023711e-02,\n",
            "        -1.00887820e-01,  2.96591073e-02,  4.75428328e-02,\n",
            "        -5.64415343e-02, -1.03350477e-02, -2.28191987e-02,\n",
            "        -3.35917063e-02, -2.65351962e-02,  5.50178476e-02,\n",
            "         4.47037928e-02, -4.49993927e-03,  2.22736020e-02,\n",
            "         3.41315381e-02, -1.60692390e-02,  7.45561998e-03,\n",
            "         4.85839024e-02,  1.40822493e-02,  6.02619257e-03,\n",
            "        -1.16606671e-02, -9.97304246e-02, -3.18837389e-02,\n",
            "         4.71814685e-02, -3.96810099e-02,  2.65264232e-02,\n",
            "        -3.64209227e-02, -5.59057192e-08,  1.99459270e-02,\n",
            "        -1.29387516e-03, -7.02764979e-03, -4.06844281e-02,\n",
            "        -3.51973511e-02, -1.60020366e-02, -4.36895527e-02,\n",
            "         4.62055206e-02,  2.01911062e-05,  2.24593505e-02,\n",
            "        -1.66847333e-02,  2.10044882e-03, -1.57055762e-02,\n",
            "         1.12846054e-01,  2.18691560e-03, -3.43770273e-02,\n",
            "         4.65488546e-02,  9.61226821e-02, -2.50879191e-02,\n",
            "        -7.00007379e-02,  6.83840588e-02,  2.29732320e-02,\n",
            "        -1.60768330e-02,  8.12479237e-04, -1.01890837e-05,\n",
            "         3.16456854e-02,  7.11908042e-02,  1.28712449e-02,\n",
            "        -5.61516546e-03,  3.88805084e-02, -1.03913724e-01,\n",
            "         4.23285663e-02,  2.54171435e-02,  1.38061596e-02,\n",
            "         2.73072682e-02, -4.89065759e-02, -8.28025304e-03,\n",
            "        -4.61351909e-02, -9.54142064e-02,  7.81233087e-02,\n",
            "         2.73226351e-02,  4.14116010e-02,  4.52591591e-02,\n",
            "         1.74564514e-02,  5.35788611e-02, -1.30662546e-02,\n",
            "         2.41002273e-02, -7.46163875e-02,  7.82757178e-02,\n",
            "        -3.15184146e-02,  2.07322538e-02, -6.89816996e-02,\n",
            "        -6.41026674e-03,  9.56992432e-03,  6.19538575e-02,\n",
            "         2.78722327e-02, -3.37493308e-02, -8.09864514e-03,\n",
            "        -5.87952845e-02,  5.26486076e-02,  8.08497667e-02,\n",
            "         1.74993207e-03, -1.97083876e-02,  4.06500287e-02]]), 'documents': [\"Portfolio of Akash Adhya - Software DeveloperAKASH ADHYAABOUTSKILLSEDUCATIONPROJECTSHello, This is  AKASH ADHYA , I'm a Professional Software Developer.Contact meGet Resumeconstcoder={name:'AKASH ADHYA',skills:['React', 'NextJS', 'Redux', 'Express', 'NestJS', 'MySql', 'MongoDB', 'Docker', 'AWS'],hardWorker:true,quickLearner:true,problemSolver:true,hireable:function() {return(this.hardWorker&&this.problemSolver&&this.skills.length>=5);};};ABOUT MEWho I am?My name is AKASH ADHYA. I am a professional and enthusiastic programmer in my daily life. I am a quick learner with a self-learning attitude. I love to learn and explore new technologies and am passionate about problem-solving. I love almost all the stacks of web application development and love to make the web more open to the world. My core skill is based on JavaScript and I love to do most of the things using JavaScript. I am available for any kind of job opportunity that suits my skills and interests.Experiences(SEP 2024 -\"], 'uris': None, 'included': ['embeddings', 'documents'], 'data': None, 'metadatas': None}\n",
            "\n",
            "collection 2 : \n",
            " {'ids': ['c84168c8-260e-4618-9251-e521633bdfbd'], 'embeddings': array([[-8.83515328e-02, -4.82014306e-02,  2.10107416e-02,\n",
            "         3.38952732e-03,  4.50236946e-02, -9.15175024e-03,\n",
            "         9.28585827e-02,  1.15413684e-02, -8.72816667e-02,\n",
            "        -5.24329096e-02, -8.39420129e-03,  2.51798257e-02,\n",
            "        -2.23052427e-02,  4.23628129e-02,  7.55393598e-03,\n",
            "         8.40271711e-02,  2.77360398e-02, -1.17938558e-03,\n",
            "        -3.50522511e-02, -4.22921889e-02,  2.48493738e-02,\n",
            "        -5.28047383e-02,  5.19156940e-02, -3.54124941e-02,\n",
            "        -1.18486568e-01,  4.87728007e-02,  3.28051783e-02,\n",
            "        -3.62783149e-02, -1.92842763e-02, -8.16609785e-02,\n",
            "         8.02817047e-02, -6.99012876e-02,  1.77737419e-02,\n",
            "         9.45555139e-03, -1.45442085e-02,  2.12029126e-02,\n",
            "         1.91929694e-02, -2.47433186e-02,  5.64852543e-02,\n",
            "        -2.61794124e-02, -1.04867011e-01, -2.57233363e-02,\n",
            "        -4.08172095e-03, -5.30160032e-02,  9.87670347e-02,\n",
            "        -4.65499833e-02, -3.95140834e-02, -1.11300349e-02,\n",
            "         4.33373228e-02,  1.14079369e-02, -4.10948135e-02,\n",
            "        -7.29945078e-02,  3.72794122e-02, -1.17240086e-01,\n",
            "        -8.21062550e-02,  1.35558909e-02, -7.84985945e-02,\n",
            "         1.98923685e-02,  4.50052693e-03, -3.45326290e-02,\n",
            "         5.75856753e-02,  3.10524832e-03,  2.30486039e-02,\n",
            "         3.09861992e-02, -1.69499759e-02,  4.13329564e-02,\n",
            "        -8.19045678e-02,  3.54265416e-04, -9.47701652e-03,\n",
            "         2.65234001e-02, -3.01869959e-02,  5.56903332e-02,\n",
            "         4.11058553e-02, -1.00313323e-02,  6.51810989e-02,\n",
            "        -9.35108960e-02, -4.94899489e-02, -3.50559540e-02,\n",
            "         3.38824689e-02, -1.17236027e-03, -1.83084216e-02,\n",
            "        -3.27973962e-02, -4.92268056e-02,  1.40119940e-01,\n",
            "         2.86185872e-02,  2.42445935e-02, -1.47408107e-02,\n",
            "         5.13423868e-02,  3.55998287e-03,  2.79662069e-02,\n",
            "        -3.72533984e-02, -1.02998987e-01,  1.24877933e-02,\n",
            "         1.80512387e-02, -4.96804807e-03,  4.69411165e-02,\n",
            "         1.71009087e-04, -8.08982551e-02, -3.11314799e-02,\n",
            "         5.00989668e-02, -3.19604315e-02, -3.28105465e-02,\n",
            "         1.58558786e-02, -5.24710454e-02, -4.03880216e-02,\n",
            "         7.04331100e-02,  7.42138829e-03,  2.49390788e-02,\n",
            "         5.21288402e-02,  4.12146077e-02,  1.27840070e-02,\n",
            "         4.76603843e-02, -8.11647326e-02, -3.00971884e-02,\n",
            "        -4.16462347e-02,  3.84580456e-02, -5.26106730e-02,\n",
            "         1.86801050e-02,  1.27162591e-01,  9.59965810e-02,\n",
            "         5.69050163e-02,  7.78507814e-02,  1.54083837e-02,\n",
            "         4.43285517e-03,  6.88469931e-02, -3.74185964e-02,\n",
            "        -6.82708016e-03,  7.00142802e-33, -3.68231465e-03,\n",
            "         2.13557575e-02, -1.63090136e-02,  6.81946352e-02,\n",
            "         8.93988833e-02,  1.44168008e-02, -4.43391316e-03,\n",
            "         3.61151621e-02, -1.13247767e-01,  6.11489872e-03,\n",
            "         9.21869185e-04,  7.84106851e-02, -2.24095285e-02,\n",
            "        -6.87509368e-04,  6.17653839e-02, -4.24894430e-02,\n",
            "         2.00727992e-02,  2.25973073e-02, -3.72310961e-03,\n",
            "        -3.43867168e-02, -5.41729890e-02, -1.32167116e-02,\n",
            "        -8.76988284e-03,  2.84498204e-02,  1.75273456e-02,\n",
            "         8.26500207e-02,  3.41622867e-02,  9.12442952e-02,\n",
            "        -6.34879107e-03,  2.38230117e-02, -3.68927717e-02,\n",
            "         8.14109445e-02, -1.30697027e-01,  6.80899667e-03,\n",
            "        -1.30072683e-02,  4.40767407e-02, -7.81310946e-02,\n",
            "        -9.05979797e-02, -3.60925007e-03,  2.16672122e-02,\n",
            "        -6.20928295e-02, -9.99866426e-03, -6.16377853e-02,\n",
            "        -3.82714011e-02, -2.51841526e-02, -3.81655321e-02,\n",
            "         4.21666056e-02,  1.69594062e-03, -3.63326352e-03,\n",
            "         1.19111307e-01, -1.55235827e-01,  1.00902105e-02,\n",
            "         4.40065339e-02, -6.78668842e-02, -3.27430889e-02,\n",
            "        -3.70250456e-02, -1.21528255e-02,  3.13924253e-02,\n",
            "         2.10012831e-02, -6.12395722e-03,  2.07708180e-02,\n",
            "         3.03412564e-02, -2.17324048e-02,  2.98927557e-02,\n",
            "        -3.77263315e-02, -5.94087541e-02, -1.10496860e-02,\n",
            "        -6.90843910e-03,  1.05240978e-01,  1.62244029e-02,\n",
            "        -2.72084307e-03,  6.77357763e-02,  7.81643167e-02,\n",
            "         3.74335982e-02, -7.22976401e-03,  1.70186367e-02,\n",
            "        -2.75024101e-02, -3.76618989e-02, -2.84608994e-02,\n",
            "        -4.22147810e-02,  1.72230694e-02,  3.52718309e-02,\n",
            "         1.39346998e-02, -1.90104973e-02,  1.00975357e-01,\n",
            "         2.39674356e-02, -5.56220300e-02, -4.25779782e-02,\n",
            "        -3.67817469e-02,  1.18303895e-01, -3.06616612e-02,\n",
            "         3.15696932e-02, -6.06689937e-02,  1.72930453e-02,\n",
            "        -5.71189113e-02, -7.63230409e-33,  2.75553167e-02,\n",
            "        -2.18506716e-02,  2.24372279e-02,  4.43927804e-03,\n",
            "         4.40882146e-02,  5.96162770e-03,  5.10605238e-02,\n",
            "        -5.18098995e-02,  4.38054837e-02,  8.95261541e-02,\n",
            "        -3.85459438e-02,  5.80477109e-03,  6.88605523e-03,\n",
            "        -2.22462043e-02, -4.70483163e-03, -5.52738924e-03,\n",
            "        -1.97571926e-02, -2.11952012e-02, -1.23854550e-02,\n",
            "        -2.31142063e-02,  2.69371010e-02,  1.78551897e-01,\n",
            "        -5.30394427e-02,  3.15871350e-02, -8.01343694e-02,\n",
            "         5.52951498e-03, -6.18597828e-02,  3.05338856e-02,\n",
            "        -8.21753964e-02, -2.35427823e-03, -6.60572872e-02,\n",
            "         2.12669428e-02,  5.66778006e-03,  4.50246874e-03,\n",
            "         2.69009490e-02, -2.69311592e-02, -2.42463145e-02,\n",
            "        -3.02500539e-02, -6.54233992e-02,  1.10118305e-02,\n",
            "         3.38414423e-02, -4.37688082e-02,  5.65102044e-03,\n",
            "        -3.81971523e-02,  3.47742513e-02,  7.61429919e-03,\n",
            "        -2.07411032e-02,  8.97324234e-02,  2.65499856e-02,\n",
            "        -3.63655053e-02, -3.96212824e-02, -6.03866577e-02,\n",
            "        -7.77883083e-02, -1.06092859e-02,  3.74144875e-02,\n",
            "         1.33518791e-02,  9.98548195e-02, -1.46952674e-01,\n",
            "        -4.91546327e-03,  9.82620940e-02, -1.63660683e-02,\n",
            "        -1.57033820e-02,  4.48600985e-02,  4.23280597e-02,\n",
            "         5.19660898e-02, -1.22112066e-01, -5.85595593e-02,\n",
            "         1.65836420e-02,  5.27624078e-02, -3.44770662e-02,\n",
            "        -8.86587147e-03,  1.27404574e-02,  6.06981330e-02,\n",
            "        -4.95960079e-02, -4.99546342e-02, -5.10875918e-02,\n",
            "         3.25070210e-02, -3.13752852e-02,  1.87674612e-02,\n",
            "        -5.55025926e-03,  4.24902327e-02, -3.97768803e-02,\n",
            "         2.49333624e-02,  6.67165443e-02, -1.35013340e-02,\n",
            "         8.97522569e-02, -1.52216421e-03, -9.12446436e-03,\n",
            "        -1.79548061e-03,  3.98293920e-02, -5.65625094e-02,\n",
            "         1.24939442e-01, -1.21966470e-02,  5.40302955e-02,\n",
            "        -9.35730040e-02, -5.85837974e-08, -4.13608700e-02,\n",
            "         4.88724411e-02, -1.01944566e-01, -3.35758664e-02,\n",
            "        -1.11469477e-01, -6.83173314e-02, -2.36000326e-02,\n",
            "         1.08023491e-02, -5.60857169e-02, -3.94293517e-02,\n",
            "         8.43676999e-02, -3.64432186e-02, -4.00923193e-03,\n",
            "         9.36256275e-02,  4.39850017e-02,  1.38195395e-03,\n",
            "        -2.17390675e-02,  9.71669033e-02, -4.15870734e-02,\n",
            "         2.56472956e-02,  1.30254462e-01, -1.43755665e-02,\n",
            "        -2.67299078e-02,  5.34983426e-02,  2.83332542e-02,\n",
            "        -3.32374685e-02, -3.44308913e-02,  4.90748212e-02,\n",
            "         3.79979424e-02,  2.79620830e-02, -8.63735378e-02,\n",
            "         3.99872987e-03,  5.40610701e-02,  8.36621691e-03,\n",
            "         1.75944436e-02, -5.99004775e-02, -1.44790458e-02,\n",
            "        -4.76996452e-02,  4.49438803e-02,  3.72030511e-02,\n",
            "         3.74548696e-02,  1.85349211e-02, -4.28416468e-02,\n",
            "         3.84838283e-02, -4.18938650e-03,  1.04893222e-02,\n",
            "        -2.14065108e-02, -8.50853696e-02, -4.73636724e-02,\n",
            "        -2.19504293e-02, -5.62799424e-02, -6.68447316e-02,\n",
            "        -3.90106365e-02,  5.49417920e-02,  4.02067378e-02,\n",
            "         5.06732240e-02,  3.29941250e-02, -7.52291754e-02,\n",
            "        -4.88665514e-02,  6.99392334e-02,  6.47394508e-02,\n",
            "         1.69819370e-02, -6.30446598e-02,  1.71760265e-02]]), 'documents': [\"My core skill is based on JavaScript and I love to do most of the things using JavaScript. I am available for any kind of job opportunity that suits my skills and interests.Experiences(SEP 2024 - Present)Self EmployedCode and build something everyday.SkillsPROJECTSADVANCE DRIVING ASSISTANCE SYSTEM (ADAS)constproject={name:'ADVANCE DRIVING ASSISTANCE SYSTEM (ADAS)',tools: ['Arduino', 'Arduino Programming', 'Prototype creation', 'Sensors', 'Motors],myRole:Lead Programmer,Description: Our project, Advanced Driving Assistance System (ADAS), focused on building a prototype showcasing five key mechanisms: Lane Detection, Collision Avoidance, Adaptive Cruise Control, Blind Spot Monitoring, and Driver Drowsiness Detection. Each step was successfully implemented, demonstrating enhanced safety and convenience during our college’s Business Fest event and Ranked First in the whole business fest.,};Travel Agency Appconstproject={name:'Travel Agency App',tools: ['NextJS', 'Tailwind CSS', 'Google\"], 'uris': None, 'included': ['embeddings', 'documents'], 'data': None, 'metadatas': None}\n",
            "\n",
            "collection 3 : \n",
            " {'ids': ['0fcff0f2-33cb-4d87-bba8-3221f086298e'], 'embeddings': array([[-5.43690696e-02, -3.51894908e-02,  8.19188484e-04,\n",
            "        -6.09120959e-03,  1.45807292e-03, -1.59113277e-02,\n",
            "        -5.34384586e-02,  1.19321803e-02,  6.97731823e-02,\n",
            "        -3.43648456e-02, -3.49507071e-02, -1.09061666e-01,\n",
            "        -1.53990770e-02, -5.98265743e-03,  1.45920604e-01,\n",
            "         6.12407699e-02,  6.22676797e-02, -6.49360120e-02,\n",
            "        -1.46321207e-02, -8.05085748e-02,  9.24268179e-03,\n",
            "        -3.23780626e-02,  1.84419230e-02, -1.46489069e-02,\n",
            "         6.80048112e-03,  1.12715755e-02, -9.61877927e-02,\n",
            "         3.40520800e-03,  4.38739024e-02, -8.71359371e-03,\n",
            "         4.41817343e-02, -2.25356873e-02, -1.46568298e-01,\n",
            "         1.95913725e-02, -3.78439724e-02,  8.43543708e-02,\n",
            "        -4.61793952e-02, -1.23031043e-01, -6.59023598e-03,\n",
            "        -5.90831973e-03,  5.75404428e-02, -1.98014057e-03,\n",
            "        -3.96478288e-02, -7.05211237e-02,  6.81334659e-02,\n",
            "        -1.07009873e-01,  1.25829857e-02, -4.69679991e-03,\n",
            "        -4.58011637e-03,  8.75166357e-02,  5.69127034e-03,\n",
            "        -6.44460693e-02,  3.49228643e-02, -5.70142679e-02,\n",
            "        -1.11397482e-01,  6.59468174e-02, -5.72385117e-02,\n",
            "         6.28970414e-02,  1.52811753e-02, -6.56677317e-03,\n",
            "         1.09962663e-02, -5.75275309e-02,  9.20212492e-02,\n",
            "        -8.05402454e-03,  1.47784303e-03,  4.65714224e-02,\n",
            "        -7.09099546e-02, -5.65182709e-04,  6.30801357e-03,\n",
            "        -9.40812156e-02,  3.18163633e-02, -2.44078618e-02,\n",
            "        -1.75749231e-02,  1.13979010e-02,  3.25651560e-03,\n",
            "        -1.16158634e-01,  3.72156664e-03,  1.79951340e-02,\n",
            "         4.18332554e-02, -6.82821944e-02, -1.60867325e-03,\n",
            "        -2.99551468e-02, -6.17387630e-02,  9.67000574e-02,\n",
            "         3.00948843e-02, -1.80634055e-02,  6.23112060e-02,\n",
            "        -6.56380653e-02, -3.64934020e-02,  6.24432601e-02,\n",
            "         3.48978154e-02, -9.29985940e-02,  6.68797418e-02,\n",
            "         8.72093886e-02,  7.31552765e-02,  3.98542508e-02,\n",
            "        -8.99122804e-02,  3.30048464e-02, -1.93238631e-02,\n",
            "         3.53227332e-02,  1.36712436e-02, -8.40303581e-03,\n",
            "         2.92927213e-02,  1.64201949e-02, -2.37616412e-02,\n",
            "        -7.01115876e-02,  1.46738775e-02,  3.13853025e-02,\n",
            "        -3.56497318e-02,  5.04860934e-03,  1.25023918e-02,\n",
            "         3.44560556e-02,  2.43537724e-02, -1.26163401e-02,\n",
            "        -2.32273266e-02,  2.26496458e-02, -9.29802656e-03,\n",
            "        -4.35352512e-02,  9.49244797e-02,  8.62214491e-02,\n",
            "         1.85748599e-02,  4.59774472e-02, -3.27031016e-02,\n",
            "        -3.00151873e-02,  6.98948205e-02,  1.27822692e-02,\n",
            "         2.92504895e-02,  5.15356413e-33, -1.73538961e-02,\n",
            "         1.87849384e-02,  1.53208692e-02,  2.77165752e-02,\n",
            "         6.98915049e-02,  2.87296623e-02, -3.45196575e-02,\n",
            "         1.77252553e-02, -7.67541602e-02, -1.38722472e-02,\n",
            "        -2.82331612e-02,  1.40667543e-01, -6.11338671e-03,\n",
            "        -4.55123559e-02,  1.43007869e-02, -2.22558733e-02,\n",
            "         2.88935918e-02,  1.26116388e-02,  4.18007709e-02,\n",
            "        -8.83396044e-02,  3.31298895e-02,  5.29764267e-03,\n",
            "         3.13542970e-02, -3.80918942e-02,  2.14199312e-02,\n",
            "         7.06456453e-02,  7.30039738e-03,  9.30474177e-02,\n",
            "        -8.09420180e-03,  3.06037888e-02,  4.94747348e-02,\n",
            "        -2.30355952e-02,  9.00169648e-03,  1.71028338e-02,\n",
            "        -3.21691632e-02, -2.19727568e-02, -2.85384618e-02,\n",
            "        -4.47700098e-02, -4.84022945e-02,  2.65610423e-02,\n",
            "        -5.59536777e-02,  1.50062172e-02, -6.00885674e-02,\n",
            "         5.64774759e-02, -7.78056309e-02, -2.46922597e-02,\n",
            "         7.87711442e-02,  6.74997130e-03,  4.08514515e-02,\n",
            "         5.64248301e-03, -1.12905905e-01, -1.14804814e-02,\n",
            "        -3.70001234e-03,  1.01642143e-02,  6.43673763e-02,\n",
            "        -5.65734394e-02,  3.52487043e-02, -1.92209911e-02,\n",
            "        -2.09262986e-02, -4.57776189e-02, -7.13633299e-02,\n",
            "         1.42163597e-02, -2.07777154e-02,  1.47431390e-02,\n",
            "        -3.39849591e-02,  1.81002934e-02, -1.03048859e-02,\n",
            "         5.09550273e-02, -9.78248008e-03, -9.39977020e-02,\n",
            "         6.01303354e-02,  7.33630732e-02,  1.34031504e-01,\n",
            "         8.00942257e-02,  2.86330134e-02, -5.48112728e-02,\n",
            "        -1.45160966e-02, -2.42853053e-02,  3.57778594e-02,\n",
            "        -8.67102295e-03, -2.16858126e-02, -2.59779934e-02,\n",
            "        -1.96481980e-02,  1.02159351e-01, -3.72602642e-02,\n",
            "        -1.23262322e-02, -3.99819482e-03, -5.54791326e-03,\n",
            "         3.27705182e-02,  9.72334370e-02, -9.59371105e-02,\n",
            "         2.40113065e-02,  2.98417024e-02, -4.97846492e-03,\n",
            "        -5.05693965e-02, -5.89364950e-33, -3.97223718e-02,\n",
            "        -1.98596325e-02, -5.36651574e-02,  5.21581946e-03,\n",
            "         2.82116029e-02, -3.96377668e-02,  9.50014964e-02,\n",
            "         2.24205200e-02,  2.20501646e-02,  4.41221111e-02,\n",
            "        -1.17985178e-02,  1.41051048e-02,  4.02881093e-02,\n",
            "        -2.50870269e-02, -2.37275641e-02,  1.00650601e-02,\n",
            "        -7.82721862e-03, -4.75466400e-02,  8.54528248e-02,\n",
            "        -2.59403028e-02,  6.66966371e-04,  1.25937372e-01,\n",
            "        -5.51194176e-02,  4.19357643e-02, -1.95399337e-02,\n",
            "        -5.44403819e-03, -7.84319416e-02, -1.47095621e-02,\n",
            "        -3.57608795e-02, -1.03013003e-02, -7.79731991e-03,\n",
            "        -7.71957356e-03, -6.16590455e-02, -5.06530367e-02,\n",
            "        -4.81663756e-02, -3.72205116e-02, -2.54757199e-02,\n",
            "         4.47858386e-02,  5.22946427e-03, -6.92380816e-02,\n",
            "         2.79326015e-03, -1.00434653e-01,  3.85747664e-03,\n",
            "         3.71503131e-03,  2.81670708e-02,  5.33624068e-02,\n",
            "        -9.29853916e-02,  4.59463522e-02,  4.95028263e-03,\n",
            "        -3.00236903e-02, -4.53826226e-02, -2.71685813e-02,\n",
            "        -4.54787798e-02, -1.01117231e-03, -3.38066509e-03,\n",
            "         3.07676103e-03,  3.35836820e-02, -7.08097741e-02,\n",
            "        -6.99218661e-02,  2.13554986e-02,  2.91600451e-03,\n",
            "        -1.01222120e-01,  9.55344439e-02, -8.12305231e-03,\n",
            "         2.75483839e-02, -8.83107856e-02, -4.84783277e-02,\n",
            "         5.97557053e-02,  1.39147297e-01,  1.13391870e-05,\n",
            "        -4.38682511e-02, -3.87853235e-02,  3.41149233e-02,\n",
            "        -7.77026191e-02, -4.41155396e-02,  4.91006635e-02,\n",
            "         6.62616640e-02, -9.32480861e-03,  1.24573298e-01,\n",
            "        -4.51611206e-02, -5.17021976e-02,  8.27958137e-02,\n",
            "         1.40549419e-02, -1.91832390e-02,  4.46932577e-02,\n",
            "         2.26480197e-02,  7.93059077e-03,  1.61862560e-02,\n",
            "         1.20960176e-02,  7.81500041e-02, -9.92680937e-02,\n",
            "        -9.82758589e-03, -8.90638120e-03,  3.50734591e-02,\n",
            "        -9.51227397e-02, -6.01431722e-08, -2.02894136e-02,\n",
            "         9.70793292e-02, -4.39916700e-02,  7.26503506e-02,\n",
            "        -8.27751830e-02, -5.36659434e-02, -9.16696154e-03,\n",
            "         3.90968062e-02,  4.30467092e-02, -2.34628282e-02,\n",
            "        -9.12419036e-02, -7.19986670e-03, -4.46324535e-02,\n",
            "         4.34068553e-02,  1.19718621e-02, -1.01538282e-02,\n",
            "        -4.51371865e-03,  7.90098011e-02, -8.84638261e-03,\n",
            "        -6.59343079e-02, -2.73580570e-02,  1.83650795e-02,\n",
            "        -2.09626555e-02,  4.60148789e-03,  4.26335521e-02,\n",
            "         3.98156978e-02, -3.60577740e-03,  3.28027271e-03,\n",
            "         2.01554853e-03,  1.53420062e-03, -8.72681290e-02,\n",
            "        -2.35001985e-02,  5.61147695e-03,  3.58699113e-02,\n",
            "        -4.81382832e-02, -2.37195510e-02, -1.94083955e-02,\n",
            "         1.41113689e-02, -9.86232888e-03,  3.35805304e-02,\n",
            "         8.67357105e-02,  6.23227796e-03, -2.20870189e-02,\n",
            "        -6.88681845e-03,  7.39647355e-03, -4.38320870e-03,\n",
            "         1.78481750e-02,  1.46125285e-02,  1.07097164e-01,\n",
            "         3.97919677e-02, -2.59015672e-02, -1.24989331e-01,\n",
            "        -7.97336102e-02,  6.88732564e-02,  1.17077991e-01,\n",
            "        -1.49585372e-02,  2.23957584e-03, -8.70733038e-02,\n",
            "         7.06692263e-02,  1.12264901e-01,  4.01975811e-02,\n",
            "        -6.39717877e-02, -4.21259701e-02, -4.22653370e-03]]), 'documents': [\"convenience during our college’s Business Fest event and Ranked First in the whole business fest.,};Travel Agency Appconstproject={name:'Travel Agency App',tools: ['NextJS', 'Tailwind CSS', 'Google Maps', 'NestJS', 'TypeScript', 'MySQL', 'AWS S3', 'Sun-Editor', 'Gmail Passkey],myRole:Full Stack Developer,Description: I have designed and developed a full-stack web app for 2Expedition, a travel agency in Armenia. I created the UI using NextJS, Typescript, MUI, TailwindCSS, Google Maps, Sun-Editor, and React Slick. The app supports multiple languages and currencies. I developed the API using NestJS, Typescript, MySQL, TypeORM, AWS, and Nodemailer. I deployed the front-end app to AWS Amplify and the back-end app to AWS EC2.,};AI Powered Real Estateconstproject={name:'AI Powered Real Estate',tools: ['React', 'Bootstrap', 'SCSS', 'Stripe', 'Express', 'TypeScript', 'MongoDB', 'Azure Blob', 'OpenAI API', 'Replicate AI', 'Cronjob', 'JWT],myRole:Full Stack Developer,Description: My team built\"], 'uris': None, 'included': ['embeddings', 'documents'], 'data': None, 'metadatas': None}\n"
          ]
        }
      ]
    },
    {
      "cell_type": "code",
      "source": [
        "retriever = vectorstore.as_retriever()"
      ],
      "metadata": {
        "id": "Vd_-4JZI-5op"
      },
      "execution_count": 11,
      "outputs": []
    },
    {
      "cell_type": "code",
      "source": [
        "from langchain import hub\n",
        "prompt = hub.pull(\"rlm/rag-prompt\")"
      ],
      "metadata": {
        "colab": {
          "base_uri": "https://localhost:8080/"
        },
        "id": "6YTjgJ1XKyUL",
        "outputId": "adc9e790-1bec-42cb-c597-51e1da87108a"
      },
      "execution_count": 12,
      "outputs": [
        {
          "output_type": "stream",
          "name": "stderr",
          "text": [
            "/usr/local/lib/python3.11/dist-packages/langsmith/client.py:278: LangSmithMissingAPIKeyWarning: API key must be provided when using hosted LangSmith API\n",
            "  warnings.warn(\n"
          ]
        }
      ]
    },
    {
      "cell_type": "code",
      "source": [
        "# !pip install -U langchain-fireworks\n",
        "from langchain_fireworks import ChatFireworks\n",
        "llm = ChatFireworks(model=\"accounts/fireworks/models/llama-v3p1-8b-instruct\")\n"
      ],
      "metadata": {
        "id": "1n5QzDfWMqnz",
        "collapsed": true
      },
      "execution_count": 18,
      "outputs": []
    },
    {
      "cell_type": "code",
      "source": [
        "from langchain_core.runnables import RunnablePassthrough\n",
        "from langchain_core.output_parsers import StrOutputParser"
      ],
      "metadata": {
        "id": "GyRJRjdLNK-Y"
      },
      "execution_count": 19,
      "outputs": []
    },
    {
      "cell_type": "code",
      "source": [
        "def format_docs(docs):\n",
        "    return \"\\n\".join(doc.page_content for doc in docs)"
      ],
      "metadata": {
        "id": "kuoncglciJ38"
      },
      "execution_count": 20,
      "outputs": []
    },
    {
      "cell_type": "code",
      "source": [
        "rag_chain = ({\"context\": retriever | format_docs, \"question\": RunnablePassthrough()}\n",
        "             | prompt\n",
        "             | llm\n",
        "             | StrOutputParser())"
      ],
      "metadata": {
        "id": "8AErYF2PhaIF"
      },
      "execution_count": 21,
      "outputs": []
    },
    {
      "cell_type": "code",
      "source": [
        "rag_chain.invoke(\"Name 5 skills that Akash has?\")"
      ],
      "metadata": {
        "colab": {
          "base_uri": "https://localhost:8080/",
          "height": 53
        },
        "id": "dMWkESUJjl10",
        "outputId": "b1b5f643-485c-4ea6-ef7b-2d8f59987947"
      },
      "execution_count": 22,
      "outputs": [
        {
          "output_type": "execute_result",
          "data": {
            "text/plain": [
              "'Akash has the following 5 skills: React, NextJS, Redux, Express, and NestJS. He also has skills in MySql, MongoDB, Docker, and AWS. Additionally, he is a hard worker, quick learner, and problem solver.'"
            ],
            "application/vnd.google.colaboratory.intrinsic+json": {
              "type": "string"
            }
          },
          "metadata": {},
          "execution_count": 22
        }
      ]
    },
    {
      "cell_type": "code",
      "source": [
        "rag_chain.invoke(\"tell me about his experiences/\")"
      ],
      "metadata": {
        "colab": {
          "base_uri": "https://localhost:8080/",
          "height": 71
        },
        "id": "0Fk2BnhIui-2",
        "outputId": "790e44bb-5167-4b47-9b53-707c2a40269d"
      },
      "execution_count": 30,
      "outputs": [
        {
          "output_type": "execute_result",
          "data": {
            "text/plain": [
              "'Akash Adhya is a professional software developer with a passion for problem-solving and learning new technologies. He has experience working on various projects, including the Advanced Driving Assistance System (ADAS) and a Travel Agency App, where he utilized skills such as JavaScript, React, NextJS, and MongoDB. He is available for job opportunities that align with his skills and interests.'"
            ],
            "application/vnd.google.colaboratory.intrinsic+json": {
              "type": "string"
            }
          },
          "metadata": {},
          "execution_count": 30
        }
      ]
    },
    {
      "cell_type": "code",
      "source": [
        "rag_chain.invoke(\"tell me about his projects.\")"
      ],
      "metadata": {
        "colab": {
          "base_uri": "https://localhost:8080/",
          "height": 71
        },
        "id": "kllyfe9IvOf3",
        "outputId": "184863ce-7724-4092-8047-2eb53202cfa6"
      },
      "execution_count": 31,
      "outputs": [
        {
          "output_type": "execute_result",
          "data": {
            "text/plain": [
              "'Akash Adhya has worked on several projects, including the Advanced Driving Assistance System (ADAS) and a Travel Agency App. The ADAS project involved building a prototype with features like lane detection, collision avoidance, and driver drowsiness detection. The Travel Agency App was an AI-based real estate app that utilized Replicate API and OpenAI for image processing and other features.'"
            ],
            "application/vnd.google.colaboratory.intrinsic+json": {
              "type": "string"
            }
          },
          "metadata": {},
          "execution_count": 31
        }
      ]
    },
    {
      "cell_type": "code",
      "source": [
        "# rag_chain.invoke(\"hi\")"
      ],
      "metadata": {
        "colab": {
          "base_uri": "https://localhost:8080/",
          "height": 36
        },
        "id": "YKcXnvaKkj6k",
        "outputId": "dd45e1aa-8e98-4b93-8a34-dcc131c38a4a"
      },
      "execution_count": 23,
      "outputs": [
        {
          "output_type": "execute_result",
          "data": {
            "text/plain": [
              "'I don\\'t know the answer to your question as it seems you just said \"hi\" without asking a specific question.'"
            ],
            "application/vnd.google.colaboratory.intrinsic+json": {
              "type": "string"
            }
          },
          "metadata": {},
          "execution_count": 23
        }
      ]
    },
    {
      "cell_type": "code",
      "source": [
        "# llm.invoke(\"hi\").content"
      ],
      "metadata": {
        "colab": {
          "base_uri": "https://localhost:8080/",
          "height": 36
        },
        "id": "8R2aeZs7l5VV",
        "outputId": "894ae53d-dd29-44bb-9b04-d61ab442f4a8"
      },
      "execution_count": 26,
      "outputs": [
        {
          "output_type": "execute_result",
          "data": {
            "text/plain": [
              "\"How's it going? Is there something I can help you with or would you like to chat?\""
            ],
            "application/vnd.google.colaboratory.intrinsic+json": {
              "type": "string"
            }
          },
          "metadata": {},
          "execution_count": 26
        }
      ]
    },
    {
      "cell_type": "code",
      "source": [],
      "metadata": {
        "id": "PFQHwYAAuGC7"
      },
      "execution_count": null,
      "outputs": []
    }
  ]
}